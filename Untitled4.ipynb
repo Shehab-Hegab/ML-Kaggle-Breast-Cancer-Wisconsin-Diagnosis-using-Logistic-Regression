{
  "nbformat": 4,
  "nbformat_minor": 0,
  "metadata": {
    "colab": {
      "provenance": []
    },
    "kernelspec": {
      "name": "python3",
      "display_name": "Python 3"
    },
    "language_info": {
      "name": "python"
    }
  },
  "cells": [
    {
      "cell_type": "markdown",
      "source": [
        "Loading Libraries"
      ],
      "metadata": {
        "id": "yBTiowksH0XE"
      }
    },
    {
      "cell_type": "code",
      "execution_count": 1,
      "metadata": {
        "id": "vgCmgbMUHVbH"
      },
      "outputs": [],
      "source": [
        "# performing linear algebra\n",
        "import numpy as np\n",
        "\n",
        "# data processing\n",
        "import pandas as pd\n",
        "\n",
        "# visualisation\n",
        "import matplotlib.pyplot as plt"
      ]
    },
    {
      "cell_type": "markdown",
      "source": [
        "Loading dataset"
      ],
      "metadata": {
        "id": "_BE6bgMsH1-L"
      }
    },
    {
      "cell_type": "code",
      "source": [
        "from google.colab import files\n",
        "uploaded = files.upload()\n"
      ],
      "metadata": {
        "colab": {
          "base_uri": "https://localhost:8080/",
          "height": 74
        },
        "id": "XGjNxHdeJWD6",
        "outputId": "d45e7bcf-1a90-4249-e23e-dd15b9590c24"
      },
      "execution_count": 5,
      "outputs": [
        {
          "output_type": "display_data",
          "data": {
            "text/plain": [
              "<IPython.core.display.HTML object>"
            ],
            "text/html": [
              "\n",
              "     <input type=\"file\" id=\"files-96294beb-26b5-4a0d-a551-d75558029c58\" name=\"files[]\" multiple disabled\n",
              "        style=\"border:none\" />\n",
              "     <output id=\"result-96294beb-26b5-4a0d-a551-d75558029c58\">\n",
              "      Upload widget is only available when the cell has been executed in the\n",
              "      current browser session. Please rerun this cell to enable.\n",
              "      </output>\n",
              "      <script>// Copyright 2017 Google LLC\n",
              "//\n",
              "// Licensed under the Apache License, Version 2.0 (the \"License\");\n",
              "// you may not use this file except in compliance with the License.\n",
              "// You may obtain a copy of the License at\n",
              "//\n",
              "//      http://www.apache.org/licenses/LICENSE-2.0\n",
              "//\n",
              "// Unless required by applicable law or agreed to in writing, software\n",
              "// distributed under the License is distributed on an \"AS IS\" BASIS,\n",
              "// WITHOUT WARRANTIES OR CONDITIONS OF ANY KIND, either express or implied.\n",
              "// See the License for the specific language governing permissions and\n",
              "// limitations under the License.\n",
              "\n",
              "/**\n",
              " * @fileoverview Helpers for google.colab Python module.\n",
              " */\n",
              "(function(scope) {\n",
              "function span(text, styleAttributes = {}) {\n",
              "  const element = document.createElement('span');\n",
              "  element.textContent = text;\n",
              "  for (const key of Object.keys(styleAttributes)) {\n",
              "    element.style[key] = styleAttributes[key];\n",
              "  }\n",
              "  return element;\n",
              "}\n",
              "\n",
              "// Max number of bytes which will be uploaded at a time.\n",
              "const MAX_PAYLOAD_SIZE = 100 * 1024;\n",
              "\n",
              "function _uploadFiles(inputId, outputId) {\n",
              "  const steps = uploadFilesStep(inputId, outputId);\n",
              "  const outputElement = document.getElementById(outputId);\n",
              "  // Cache steps on the outputElement to make it available for the next call\n",
              "  // to uploadFilesContinue from Python.\n",
              "  outputElement.steps = steps;\n",
              "\n",
              "  return _uploadFilesContinue(outputId);\n",
              "}\n",
              "\n",
              "// This is roughly an async generator (not supported in the browser yet),\n",
              "// where there are multiple asynchronous steps and the Python side is going\n",
              "// to poll for completion of each step.\n",
              "// This uses a Promise to block the python side on completion of each step,\n",
              "// then passes the result of the previous step as the input to the next step.\n",
              "function _uploadFilesContinue(outputId) {\n",
              "  const outputElement = document.getElementById(outputId);\n",
              "  const steps = outputElement.steps;\n",
              "\n",
              "  const next = steps.next(outputElement.lastPromiseValue);\n",
              "  return Promise.resolve(next.value.promise).then((value) => {\n",
              "    // Cache the last promise value to make it available to the next\n",
              "    // step of the generator.\n",
              "    outputElement.lastPromiseValue = value;\n",
              "    return next.value.response;\n",
              "  });\n",
              "}\n",
              "\n",
              "/**\n",
              " * Generator function which is called between each async step of the upload\n",
              " * process.\n",
              " * @param {string} inputId Element ID of the input file picker element.\n",
              " * @param {string} outputId Element ID of the output display.\n",
              " * @return {!Iterable<!Object>} Iterable of next steps.\n",
              " */\n",
              "function* uploadFilesStep(inputId, outputId) {\n",
              "  const inputElement = document.getElementById(inputId);\n",
              "  inputElement.disabled = false;\n",
              "\n",
              "  const outputElement = document.getElementById(outputId);\n",
              "  outputElement.innerHTML = '';\n",
              "\n",
              "  const pickedPromise = new Promise((resolve) => {\n",
              "    inputElement.addEventListener('change', (e) => {\n",
              "      resolve(e.target.files);\n",
              "    });\n",
              "  });\n",
              "\n",
              "  const cancel = document.createElement('button');\n",
              "  inputElement.parentElement.appendChild(cancel);\n",
              "  cancel.textContent = 'Cancel upload';\n",
              "  const cancelPromise = new Promise((resolve) => {\n",
              "    cancel.onclick = () => {\n",
              "      resolve(null);\n",
              "    };\n",
              "  });\n",
              "\n",
              "  // Wait for the user to pick the files.\n",
              "  const files = yield {\n",
              "    promise: Promise.race([pickedPromise, cancelPromise]),\n",
              "    response: {\n",
              "      action: 'starting',\n",
              "    }\n",
              "  };\n",
              "\n",
              "  cancel.remove();\n",
              "\n",
              "  // Disable the input element since further picks are not allowed.\n",
              "  inputElement.disabled = true;\n",
              "\n",
              "  if (!files) {\n",
              "    return {\n",
              "      response: {\n",
              "        action: 'complete',\n",
              "      }\n",
              "    };\n",
              "  }\n",
              "\n",
              "  for (const file of files) {\n",
              "    const li = document.createElement('li');\n",
              "    li.append(span(file.name, {fontWeight: 'bold'}));\n",
              "    li.append(span(\n",
              "        `(${file.type || 'n/a'}) - ${file.size} bytes, ` +\n",
              "        `last modified: ${\n",
              "            file.lastModifiedDate ? file.lastModifiedDate.toLocaleDateString() :\n",
              "                                    'n/a'} - `));\n",
              "    const percent = span('0% done');\n",
              "    li.appendChild(percent);\n",
              "\n",
              "    outputElement.appendChild(li);\n",
              "\n",
              "    const fileDataPromise = new Promise((resolve) => {\n",
              "      const reader = new FileReader();\n",
              "      reader.onload = (e) => {\n",
              "        resolve(e.target.result);\n",
              "      };\n",
              "      reader.readAsArrayBuffer(file);\n",
              "    });\n",
              "    // Wait for the data to be ready.\n",
              "    let fileData = yield {\n",
              "      promise: fileDataPromise,\n",
              "      response: {\n",
              "        action: 'continue',\n",
              "      }\n",
              "    };\n",
              "\n",
              "    // Use a chunked sending to avoid message size limits. See b/62115660.\n",
              "    let position = 0;\n",
              "    do {\n",
              "      const length = Math.min(fileData.byteLength - position, MAX_PAYLOAD_SIZE);\n",
              "      const chunk = new Uint8Array(fileData, position, length);\n",
              "      position += length;\n",
              "\n",
              "      const base64 = btoa(String.fromCharCode.apply(null, chunk));\n",
              "      yield {\n",
              "        response: {\n",
              "          action: 'append',\n",
              "          file: file.name,\n",
              "          data: base64,\n",
              "        },\n",
              "      };\n",
              "\n",
              "      let percentDone = fileData.byteLength === 0 ?\n",
              "          100 :\n",
              "          Math.round((position / fileData.byteLength) * 100);\n",
              "      percent.textContent = `${percentDone}% done`;\n",
              "\n",
              "    } while (position < fileData.byteLength);\n",
              "  }\n",
              "\n",
              "  // All done.\n",
              "  yield {\n",
              "    response: {\n",
              "      action: 'complete',\n",
              "    }\n",
              "  };\n",
              "}\n",
              "\n",
              "scope.google = scope.google || {};\n",
              "scope.google.colab = scope.google.colab || {};\n",
              "scope.google.colab._files = {\n",
              "  _uploadFiles,\n",
              "  _uploadFilesContinue,\n",
              "};\n",
              "})(self);\n",
              "</script> "
            ]
          },
          "metadata": {}
        },
        {
          "output_type": "stream",
          "name": "stdout",
          "text": [
            "Saving breast-cancer.csv to breast-cancer.csv\n"
          ]
        }
      ]
    },
    {
      "cell_type": "code",
      "source": [
        "data = pd.read_csv(\"breast-cancer.csv\")\n",
        "\n",
        "print (data.head)"
      ],
      "metadata": {
        "colab": {
          "base_uri": "https://localhost:8080/"
        },
        "id": "IYeAz8HEJkFc",
        "outputId": "edfe3e81-940c-4a1f-c633-39d911443273"
      },
      "execution_count": 11,
      "outputs": [
        {
          "output_type": "stream",
          "name": "stdout",
          "text": [
            "<bound method NDFrame.head of            id diagnosis  radius_mean  texture_mean  perimeter_mean  area_mean  \\\n",
            "0      842302         M        17.99         10.38          122.80     1001.0   \n",
            "1      842517         M        20.57         17.77          132.90     1326.0   \n",
            "2    84300903         M        19.69         21.25          130.00     1203.0   \n",
            "3    84348301         M        11.42         20.38           77.58      386.1   \n",
            "4    84358402         M        20.29         14.34          135.10     1297.0   \n",
            "..        ...       ...          ...           ...             ...        ...   \n",
            "564    926424         M        21.56         22.39          142.00     1479.0   \n",
            "565    926682         M        20.13         28.25          131.20     1261.0   \n",
            "566    926954         M        16.60         28.08          108.30      858.1   \n",
            "567    927241         M        20.60         29.33          140.10     1265.0   \n",
            "568     92751         B         7.76         24.54           47.92      181.0   \n",
            "\n",
            "     smoothness_mean  compactness_mean  concavity_mean  concave points_mean  \\\n",
            "0            0.11840           0.27760         0.30010              0.14710   \n",
            "1            0.08474           0.07864         0.08690              0.07017   \n",
            "2            0.10960           0.15990         0.19740              0.12790   \n",
            "3            0.14250           0.28390         0.24140              0.10520   \n",
            "4            0.10030           0.13280         0.19800              0.10430   \n",
            "..               ...               ...             ...                  ...   \n",
            "564          0.11100           0.11590         0.24390              0.13890   \n",
            "565          0.09780           0.10340         0.14400              0.09791   \n",
            "566          0.08455           0.10230         0.09251              0.05302   \n",
            "567          0.11780           0.27700         0.35140              0.15200   \n",
            "568          0.05263           0.04362         0.00000              0.00000   \n",
            "\n",
            "     ...  radius_worst  texture_worst  perimeter_worst  area_worst  \\\n",
            "0    ...        25.380          17.33           184.60      2019.0   \n",
            "1    ...        24.990          23.41           158.80      1956.0   \n",
            "2    ...        23.570          25.53           152.50      1709.0   \n",
            "3    ...        14.910          26.50            98.87       567.7   \n",
            "4    ...        22.540          16.67           152.20      1575.0   \n",
            "..   ...           ...            ...              ...         ...   \n",
            "564  ...        25.450          26.40           166.10      2027.0   \n",
            "565  ...        23.690          38.25           155.00      1731.0   \n",
            "566  ...        18.980          34.12           126.70      1124.0   \n",
            "567  ...        25.740          39.42           184.60      1821.0   \n",
            "568  ...         9.456          30.37            59.16       268.6   \n",
            "\n",
            "     smoothness_worst  compactness_worst  concavity_worst  \\\n",
            "0             0.16220            0.66560           0.7119   \n",
            "1             0.12380            0.18660           0.2416   \n",
            "2             0.14440            0.42450           0.4504   \n",
            "3             0.20980            0.86630           0.6869   \n",
            "4             0.13740            0.20500           0.4000   \n",
            "..                ...                ...              ...   \n",
            "564           0.14100            0.21130           0.4107   \n",
            "565           0.11660            0.19220           0.3215   \n",
            "566           0.11390            0.30940           0.3403   \n",
            "567           0.16500            0.86810           0.9387   \n",
            "568           0.08996            0.06444           0.0000   \n",
            "\n",
            "     concave points_worst  symmetry_worst  fractal_dimension_worst  \n",
            "0                  0.2654          0.4601                  0.11890  \n",
            "1                  0.1860          0.2750                  0.08902  \n",
            "2                  0.2430          0.3613                  0.08758  \n",
            "3                  0.2575          0.6638                  0.17300  \n",
            "4                  0.1625          0.2364                  0.07678  \n",
            "..                    ...             ...                      ...  \n",
            "564                0.2216          0.2060                  0.07115  \n",
            "565                0.1628          0.2572                  0.06637  \n",
            "566                0.1418          0.2218                  0.07820  \n",
            "567                0.2650          0.4087                  0.12400  \n",
            "568                0.0000          0.2871                  0.07039  \n",
            "\n",
            "[569 rows x 32 columns]>\n"
          ]
        }
      ]
    },
    {
      "cell_type": "markdown",
      "source": [
        "Loading dataset"
      ],
      "metadata": {
        "id": "ZEaMtyiMKKlp"
      }
    },
    {
      "cell_type": "code",
      "source": [
        "data.info()"
      ],
      "metadata": {
        "colab": {
          "base_uri": "https://localhost:8080/"
        },
        "id": "q7B4iMzaH9wn",
        "outputId": "d64e7d09-3034-410a-f125-32ab4a90fcc9"
      },
      "execution_count": 12,
      "outputs": [
        {
          "output_type": "stream",
          "name": "stdout",
          "text": [
            "<class 'pandas.core.frame.DataFrame'>\n",
            "RangeIndex: 569 entries, 0 to 568\n",
            "Data columns (total 32 columns):\n",
            " #   Column                   Non-Null Count  Dtype  \n",
            "---  ------                   --------------  -----  \n",
            " 0   id                       569 non-null    int64  \n",
            " 1   diagnosis                569 non-null    object \n",
            " 2   radius_mean              569 non-null    float64\n",
            " 3   texture_mean             569 non-null    float64\n",
            " 4   perimeter_mean           569 non-null    float64\n",
            " 5   area_mean                569 non-null    float64\n",
            " 6   smoothness_mean          569 non-null    float64\n",
            " 7   compactness_mean         569 non-null    float64\n",
            " 8   concavity_mean           569 non-null    float64\n",
            " 9   concave points_mean      569 non-null    float64\n",
            " 10  symmetry_mean            569 non-null    float64\n",
            " 11  fractal_dimension_mean   569 non-null    float64\n",
            " 12  radius_se                569 non-null    float64\n",
            " 13  texture_se               569 non-null    float64\n",
            " 14  perimeter_se             569 non-null    float64\n",
            " 15  area_se                  569 non-null    float64\n",
            " 16  smoothness_se            569 non-null    float64\n",
            " 17  compactness_se           569 non-null    float64\n",
            " 18  concavity_se             569 non-null    float64\n",
            " 19  concave points_se        569 non-null    float64\n",
            " 20  symmetry_se              569 non-null    float64\n",
            " 21  fractal_dimension_se     569 non-null    float64\n",
            " 22  radius_worst             569 non-null    float64\n",
            " 23  texture_worst            569 non-null    float64\n",
            " 24  perimeter_worst          569 non-null    float64\n",
            " 25  area_worst               569 non-null    float64\n",
            " 26  smoothness_worst         569 non-null    float64\n",
            " 27  compactness_worst        569 non-null    float64\n",
            " 28  concavity_worst          569 non-null    float64\n",
            " 29  concave points_worst     569 non-null    float64\n",
            " 30  symmetry_worst           569 non-null    float64\n",
            " 31  fractal_dimension_worst  569 non-null    float64\n",
            "dtypes: float64(30), int64(1), object(1)\n",
            "memory usage: 142.4+ KB\n"
          ]
        }
      ]
    },
    {
      "cell_type": "markdown",
      "source": [
        "We are dropping columns – ‘id’ and ‘fractal_dimension_worst’ as they have no role in prediction"
      ],
      "metadata": {
        "id": "sq64qlJ4Kjss"
      }
    },
    {
      "cell_type": "code",
      "source": [
        "data.drop(['fractal_dimension_worst' , 'id'], axis = 1)\n",
        "data.diagnosis = [1 if each == \"M\" else 0 for each in data.diagnosis]"
      ],
      "metadata": {
        "id": "4eA1IAEpKjUh"
      },
      "execution_count": 14,
      "outputs": []
    },
    {
      "cell_type": "code",
      "source": [
        "y = data.diagnosis.values\n",
        "x_data = data.drop(['diagnosis'],axis =1)"
      ],
      "metadata": {
        "id": "RB45i9AsKYUx"
      },
      "execution_count": 15,
      "outputs": []
    },
    {
      "cell_type": "markdown",
      "source": [
        "Normalisation"
      ],
      "metadata": {
        "id": "K78vLsMENct0"
      }
    },
    {
      "cell_type": "code",
      "source": [
        "\n",
        "\n",
        "# Assuming x_data is a numpy array or a pandas Series/DataFrame column\n",
        "x = (x_data - np.min(x_data)) / (np.max(x_data) - np.min(x_data))\n"
      ],
      "metadata": {
        "id": "9lx7J7slNd1i"
      },
      "execution_count": 19,
      "outputs": []
    },
    {
      "cell_type": "markdown",
      "source": [
        "splitting data for training and testing\n"
      ],
      "metadata": {
        "id": "2YEA_nzYTA3i"
      }
    },
    {
      "cell_type": "code",
      "source": [
        "from sklearn.model_selection import train_test_split\n",
        "x_train, x_test, y_train, y_test = train_test_split(\n",
        "    x, y, test_size = 0.15, random_state = 42)\n",
        "\n",
        "x_train = x_train.T\n",
        "x_test = x_test.T\n",
        "y_train = y_train.T\n",
        "y_test = y_test.T\n",
        "\n",
        "print(\"x train: \", x_train.shape)\n",
        "print(\"x test: \", x_test.shape)\n",
        "print(\"y train: \", y_train.shape)\n",
        "print(\"y test: \", y_test.shape)"
      ],
      "metadata": {
        "colab": {
          "base_uri": "https://localhost:8080/"
        },
        "id": "Gg-CyYsRTBQ8",
        "outputId": "660da290-8b63-4ccb-f6ea-adfccd975464"
      },
      "execution_count": 20,
      "outputs": [
        {
          "output_type": "stream",
          "name": "stdout",
          "text": [
            "x train:  (31, 483)\n",
            "x test:  (31, 86)\n",
            "y train:  (483,)\n",
            "y test:  (86,)\n"
          ]
        }
      ]
    },
    {
      "cell_type": "markdown",
      "source": [
        "Weight and bias"
      ],
      "metadata": {
        "id": "wMOOFkIRUEph"
      }
    },
    {
      "cell_type": "code",
      "source": [
        "def initialize_weights_and_bias(dimension):\n",
        "  w = np.full((dimension, 1) , 0.01)\n",
        "  b = 0.0\n",
        "  return w,b\n"
      ],
      "metadata": {
        "id": "boAv71FbUEBk"
      },
      "execution_count": 21,
      "outputs": []
    },
    {
      "cell_type": "markdown",
      "source": [
        "Sigmoid Function-calculating z value."
      ],
      "metadata": {
        "id": "zUxX1uNiUaQk"
      }
    },
    {
      "cell_type": "code",
      "source": [
        "# z = np.dot(w.t, x_train) + b\n",
        "def sigmoid(z):\n",
        "  y_head = 1 / (1 + np.exp(-z))\n",
        "  return y_head"
      ],
      "metadata": {
        "id": "vAhkK3yqUfSf"
      },
      "execution_count": 22,
      "outputs": []
    },
    {
      "cell_type": "markdown",
      "source": [
        "Forward-Backward Propagation"
      ],
      "metadata": {
        "id": "4gye1M6FUzd4"
      }
    },
    {
      "cell_type": "code",
      "source": [
        "def forward_backward_propagation(w, b, x_train, y_train):\n",
        "    z = np.dot(w.T, x_train) + b\n",
        "    y_head = sigmoid(z)\n",
        "    loss = - y_train * np.log(y_head) - (1 - y_train) * np.log(1 - y_head)\n",
        "    # x_train.shape[1]  is for scaling\n",
        "    cost = (np.sum(loss)) / x_train.shape[1]\n",
        "\n",
        "    # backward propagation\n",
        "    derivative_weight = (np.dot(x_train, (\n",
        "        (y_head - y_train).T))) / x_train.shape[1]\n",
        "    derivative_bias = np.sum(\n",
        "        y_head-y_train) / x_train.shape[1]\n",
        "    gradients = {\"derivative_weight\": derivative_weight,\n",
        "                 \"derivative_bias\": derivative_bias}\n",
        "    return cost, gradients"
      ],
      "metadata": {
        "id": "PrJWGxWjXWKU"
      },
      "execution_count": 24,
      "outputs": []
    },
    {
      "cell_type": "markdown",
      "source": [
        "Updating Parameters"
      ],
      "metadata": {
        "id": "CGTHAl5fhjxA"
      }
    },
    {
      "cell_type": "code",
      "source": [
        "def update(w, b, x_train, y_train, learning_rate, number_of_iterarion):\n",
        "    cost_list = []\n",
        "    cost_list2 = []\n",
        "    index = []\n",
        "\n",
        "    # updating(learning) parameters is number_of_iterarion times\n",
        "    for i in range(number_of_iterarion):\n",
        "        # make forward and backward propagation and find cost and gradients\n",
        "        cost, gradients = forward_backward_propagation(w, b, x_train, y_train)\n",
        "        cost_list.append(cost)\n",
        "\n",
        "        # lets update\n",
        "        w = w - learning_rate * gradients[\"derivative_weight\"]\n",
        "        b = b - learning_rate * gradients[\"derivative_bias\"]\n",
        "        if i % 10 == 0:\n",
        "            cost_list2.append(cost)\n",
        "            index.append(i)\n",
        "            print (\"Cost after iteration % i: % f\" %(i, cost))\n",
        "\n",
        "    # update(learn) parameters weights and bias\n",
        "    parameters = {\"weight\": w, \"bias\": b}\n",
        "    plt.plot(index, cost_list2)\n",
        "    plt.xticks(index, rotation ='vertical')\n",
        "    plt.xlabel(\"Number of Iterarion\")\n",
        "    plt.ylabel(\"Cost\")\n",
        "    plt.show()\n",
        "    return parameters, gradients, cost_list"
      ],
      "metadata": {
        "id": "ZlvpVMeQhl7D"
      },
      "execution_count": 1,
      "outputs": []
    },
    {
      "cell_type": "markdown",
      "source": [
        "Predictions"
      ],
      "metadata": {
        "id": "MM-HLtI2_Tzy"
      }
    },
    {
      "cell_type": "code",
      "source": [
        "def predict(w, b, x_test):\n",
        "    # x_test is a input for forward propagation\n",
        "    z = sigmoid(np.dot(w.T, x_test)+b)\n",
        "    Y_prediction = np.zeros((1, x_test.shape[1]))\n",
        "\n",
        "    # if z is bigger than 0.5, our prediction is sign one (y_head = 1),\n",
        "    # if z is smaller than 0.5, our prediction is sign zero (y_head = 0),\n",
        "    for i in range(z.shape[1]):\n",
        "        if z[0, i]<= 0.5:\n",
        "            Y_prediction[0, i] = 0\n",
        "        else:\n",
        "            Y_prediction[0, i] = 1\n",
        "\n",
        "    return Y_prediction"
      ],
      "metadata": {
        "id": "4aDsjNN5_UK2"
      },
      "execution_count": 2,
      "outputs": []
    },
    {
      "cell_type": "markdown",
      "source": [
        "Logistic Regression"
      ],
      "metadata": {
        "id": "aC236SZXAPlx"
      }
    },
    {
      "cell_type": "code",
      "source": [
        "def update(w, b, x_train, y_train, learning_rate, num_iterations):\n",
        "    cost_list = []\n",
        "    m = x_train.shape[1]  # number of examples\n",
        "\n",
        "    for i in range(num_iterations):\n",
        "        # Forward propagation\n",
        "        z = np.dot(w.T, x_train) + b\n",
        "        a = 1 / (1 + np.exp(-z))  # sigmoid function\n",
        "        # Reshape 'a' to match 'y_train' - Transpose to get a column vector\n",
        "        a = a.T # Transpose 'a' to get the correct shape\n",
        "\n",
        "        # Compute cost\n",
        "        cost = -1/m * np.sum(y_train * np.log(a) + (1 - y_train) * np.log(1 - a))\n",
        "\n",
        "        # Backward propagation\n",
        "        # Removed transpose operation on (a - y_train) and changed multiplication order\n",
        "        dw = 1/m * np.dot((a - y_train), x_train.T)\n",
        "        db = 1/m * np.sum(a - y_train)\n",
        "\n",
        "        # Update weights and bias\n",
        "        w = w - learning_rate * dw\n",
        "        b = b - learning_rate * db\n",
        "\n",
        "        # Record the cost every 100 iterations\n",
        "        if i % 100 == 0:\n",
        "            cost_list.append(cost)\n",
        "\n",
        "    parameters = {\"weight\": w, \"bias\": b}\n",
        "    gradients = {\"dw\": dw, \"db\": db}\n",
        "\n",
        "    return parameters, gradients, cost_list"
      ],
      "metadata": {
        "id": "VUhBH6q8AP97"
      },
      "execution_count": 8,
      "outputs": []
    },
    {
      "cell_type": "markdown",
      "source": [
        "Checking results with linear_model.LogisticRegression"
      ],
      "metadata": {
        "id": "o8x0tSEQBivK"
      }
    },
    {
      "cell_type": "code",
      "source": [
        "from sklearn import linear_model\n",
        "logreg = linear_model.LogisticRegression(random_state = 42, max_iter = 150)\n",
        "# Reshape y_train to be a column vector\n",
        "y_train_reshaped = y_train.reshape(-1, 1)\n",
        "\n",
        "# Check shapes before fitting the model\n",
        "print(\"Shape of x_train.T:\", x_train.T.shape)\n",
        "print(\"Shape of y_train_reshaped:\", y_train_reshaped.shape)\n",
        "print(\"Shape of x_test.T:\", x_test.T.shape)\n",
        "print(\"Shape of y_test.T:\", y_test.T.shape)\n",
        "\n",
        "# Fit the model on the training data\n",
        "# The model expects the samples to be in rows. No need to transpose x_train\n",
        "logreg.fit(x_train, y_train_reshaped)\n",
        "\n",
        "# Evaluate the model\n",
        "print(\"test accuracy: {} \".format(\n",
        "    logreg.score(x_test, y_test))) # Remove .T from y_test as it's already 1D\n",
        "# Reshape y_train to be a column vector\n",
        "print(\"train accuracy: {} \".format(\n",
        "    logreg.score(x_train, y_train))) # Remove .T from y_train as it's already 1D"
      ],
      "metadata": {
        "colab": {
          "base_uri": "https://localhost:8080/"
        },
        "id": "YgtzylB2BgIa",
        "outputId": "37095c34-1c5f-4ba2-d7e6-2875bd33fb9d"
      },
      "execution_count": 15,
      "outputs": [
        {
          "output_type": "stream",
          "name": "stdout",
          "text": [
            "Shape of x_train.T: (2, 4)\n",
            "Shape of y_train_reshaped: (4, 1)\n",
            "Shape of x_test.T: (2, 1)\n",
            "Shape of y_test.T: (1,)\n",
            "test accuracy: 1.0 \n",
            "train accuracy: 0.5 \n"
          ]
        },
        {
          "output_type": "stream",
          "name": "stderr",
          "text": [
            "/usr/local/lib/python3.10/dist-packages/sklearn/utils/validation.py:1183: DataConversionWarning: A column-vector y was passed when a 1d array was expected. Please change the shape of y to (n_samples, ), for example using ravel().\n",
            "  y = column_or_1d(y, warn=True)\n"
          ]
        }
      ]
    }
  ]
}